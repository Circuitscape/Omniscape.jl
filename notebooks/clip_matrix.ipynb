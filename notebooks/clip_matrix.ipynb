{
 "cells": [
  {
   "cell_type": "code",
   "execution_count": null,
   "metadata": {},
   "outputs": [],
   "source": [
    "a = reshape(collect(1.0:1.0:100.0), 10, 10)"
   ]
  },
  {
   "cell_type": "code",
   "execution_count": null,
   "metadata": {},
   "outputs": [],
   "source": [
    "function clip(A, x::Int64, y::Int64, distance::Float64)\n",
    "    dim1 = size(A)[1]\n",
    "    dim2 = size(A)[2]\n",
    "    \n",
    "    dist = zeros(dim1, dim2)\n",
    "    for i=1:dim1,j=1:dim2\n",
    "        dist[i, j] = sqrt((i - x)^2 + (j - y)^2)\n",
    "    end\n",
    "    clipped = A\n",
    "    clipped[dist.>distance] .= -9\n",
    "    reshape(clipped, dim1, dim2)\n",
    "end"
   ]
  },
  {
   "cell_type": "code",
   "execution_count": null,
   "metadata": {},
   "outputs": [],
   "source": [
    "clip(a, 5, 5, 3.1)"
   ]
  }
 ],
 "metadata": {
  "kernelspec": {
   "display_name": "Julia 1.1.0",
   "language": "julia",
   "name": "julia-1.1"
  },
  "language_info": {
   "file_extension": ".jl",
   "mimetype": "application/julia",
   "name": "julia",
   "version": "1.1.0"
  }
 },
 "nbformat": 4,
 "nbformat_minor": 2
}
